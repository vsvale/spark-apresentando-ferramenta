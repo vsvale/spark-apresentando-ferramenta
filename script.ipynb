{
 "cells": [
  {
   "cell_type": "code",
   "execution_count": null,
   "metadata": {},
   "outputs": [],
   "source": [
    "# !pip install -r requirements.txt"
   ]
  },
  {
   "cell_type": "code",
   "execution_count": null,
   "metadata": {},
   "outputs": [],
   "source": [
    "from pyspark.sql import SparkSession\n",
    "import zipfile\n",
    "import wget\n",
    "import os\n",
    "from pyspark.sql.types import DoubleType, StringType\n",
    "from pyspark.sql import functions as f"
   ]
  },
  {
   "cell_type": "code",
   "execution_count": null,
   "metadata": {},
   "outputs": [],
   "source": [
    "spark = SparkSession.builder\\\n",
    "    .master('local[*]')\\\n",
    "    .appName('Baby steps in Spark')\\\n",
    "    .getOrCreate()"
   ]
  },
  {
   "cell_type": "markdown",
   "metadata": {},
   "source": [
    "## Fonte dos dados\n",
    "https://www.gov.br/receitafederal/pt-br/assuntos/orientacao-tributaria/cadastros/consultas/dados-publicos-cnpj"
   ]
  },
  {
   "cell_type": "code",
   "execution_count": null,
   "metadata": {},
   "outputs": [],
   "source": [
    "wget.download('https://caelum-online-public.s3.amazonaws.com/2273-introducao-spark/01/estabelecimentos.zip','.')\n",
    "wget.download('https://caelum-online-public.s3.amazonaws.com/2273-introducao-spark/01/empresas.zip','.')\n",
    "wget.download('https://caelum-online-public.s3.amazonaws.com/2273-introducao-spark/01/socios.zip','.')"
   ]
  },
  {
   "cell_type": "code",
   "execution_count": null,
   "metadata": {},
   "outputs": [],
   "source": [
    "zipfile.ZipFile('empresas.zip').extractall('.')\n",
    "zipfile.ZipFile('estabelecimentos.zip').extractall('.')\n",
    "zipfile.ZipFile('socios.zip').extractall('.')"
   ]
  },
  {
   "cell_type": "code",
   "execution_count": null,
   "metadata": {},
   "outputs": [],
   "source": [
    "os.remove('./empresas.zip')\n",
    "os.remove('./estabelecimentos.zip')\n",
    "os.remove('./socios.zip')"
   ]
  },
  {
   "cell_type": "markdown",
   "metadata": {},
   "source": [
    "EMPRESAS\n",
    "|Campo|  Descrição |\n",
    "|---|---|\n",
    "|  cnpj  | NÚMERO BASE DE INSCRIÇÃO NO CNPJ (OITO PRIMEIROS DÍGITOS DO CNPJ). |\n",
    "| raz_soc  | NOME EMPRESARIAL DA PESSOA JURÍDICA |\n",
    "|  natur_jur | CÓDIGO DA NATUREZA JURÍDICA  |\n",
    "|  qualif_resp | QUALIFICAÇÃO DA PESSOA FÍSICA RESPONSÁVEL PELA EMPRESA |\n",
    "|  capital | CAPITAL SOCIAL DA EMPRESA |\n",
    "| porte   | CÓDIGO DO PORTE DA EMPRESA: 00 – NÃO INFORMADO 01 - MICRO EMPRESA 03 - EMPRESA DE PEQUENO PORTE 05 - DEMAIS |\n",
    "| ent_fed   |  O ENTE FEDERATIVO RESPONSÁVEL É PREENCHIDO PARA OS CASOS DE ÓRGÃOS E ENTIDADES DO GRUPO DE NATUREZA JURÍDICA 1XXX. PARA AS DEMAIS NATUREZAS, ESTE ATRIBUTO FICA EM BRANCO. |"
   ]
  },
  {
   "cell_type": "code",
   "execution_count": null,
   "metadata": {},
   "outputs": [],
   "source": [
    "empresas = spark.read.csv('empresas',sep=';',inferSchema=True)"
   ]
  },
  {
   "cell_type": "code",
   "execution_count": null,
   "metadata": {},
   "outputs": [],
   "source": [
    "empres_col = ['cnpj','raz_soc','natur_jur','qualif_resp','capital','porte','ent_fed']"
   ]
  },
  {
   "cell_type": "code",
   "execution_count": null,
   "metadata": {},
   "outputs": [],
   "source": [
    "for i,coluna in enumerate(empres_col):\n",
    "    empresas = empresas.withColumnRenamed(f'_c{i}',coluna)"
   ]
  },
  {
   "cell_type": "code",
   "execution_count": null,
   "metadata": {},
   "outputs": [],
   "source": [
    "empresas.limit(5).toPandas()"
   ]
  },
  {
   "cell_type": "code",
   "execution_count": null,
   "metadata": {},
   "outputs": [],
   "source": [
    "empresas.count()"
   ]
  },
  {
   "cell_type": "code",
   "execution_count": null,
   "metadata": {},
   "outputs": [],
   "source": [
    "empresas.printSchema()"
   ]
  },
  {
   "cell_type": "code",
   "execution_count": null,
   "metadata": {},
   "outputs": [],
   "source": [
    "empresas = empresas.withColumn('capital',f.regexp_replace('capital',',','.'))"
   ]
  },
  {
   "cell_type": "code",
   "execution_count": null,
   "metadata": {},
   "outputs": [],
   "source": [
    "empresas = empresas.withColumn('capital',empresas['capital'].cast(DoubleType()))"
   ]
  },
  {
   "cell_type": "code",
   "execution_count": null,
   "metadata": {},
   "outputs": [],
   "source": [
    "empresas.printSchema()"
   ]
  },
  {
   "cell_type": "code",
   "execution_count": null,
   "metadata": {},
   "outputs": [],
   "source": [
    "empresas.select('*').show(5,False)"
   ]
  },
  {
   "cell_type": "code",
   "execution_count": null,
   "metadata": {},
   "outputs": [],
   "source": [
    "empresas\\\n",
    "    .where('capital<=50')\\\n",
    "    .filter(f.col('porte')==1)\\\n",
    "    .show(6,False)"
   ]
  },
  {
   "cell_type": "code",
   "execution_count": null,
   "metadata": {},
   "outputs": [],
   "source": [
    "empresas\\\n",
    "    .where(f.col('raz_soc').like('%RESTAURANTES%'))\\\n",
    "    .show(5,False)"
   ]
  },
  {
   "cell_type": "code",
   "execution_count": null,
   "metadata": {},
   "outputs": [],
   "source": [
    "empresas\\\n",
    "    .select('cnpj','porte','capital')\\\n",
    "    .groupBy('porte')\\\n",
    "    .agg(\n",
    "        f.avg('capital').alias('avg_capital'),\n",
    "        f.count('cnpj').alias('count')\n",
    "    )\\\n",
    "    .orderBy('porte',ascending=True)\\\n",
    "    .show()"
   ]
  },
  {
   "cell_type": "code",
   "execution_count": null,
   "metadata": {},
   "outputs": [],
   "source": [
    "empresas\\\n",
    "    .select('capital')\\\n",
    "    .summary()\\\n",
    "    .show()\n",
    "    "
   ]
  },
  {
   "cell_type": "code",
   "execution_count": null,
   "metadata": {},
   "outputs": [],
   "source": [
    "avg = empresas.select(f.avg('qualif_resp').cast('float')).collect()[0][0]\n",
    "empresas\\\n",
    "    .withColumn(\n",
    "        'Estudo',\n",
    "        f.when(\n",
    "            f.col('qualif_resp')< avg\n",
    "            ,'Reprovado').otherwise('Aprovado')\\\n",
    "        )\\\n",
    "    .show(5,False)\n",
    "\n"
   ]
  },
  {
   "cell_type": "markdown",
   "metadata": {},
   "source": [
    "ESTABELECIMENTOS\n",
    "\n",
    "| Campo                       | Descrição                                                                                          |\n",
    "|-----------------------------|----------------------------------------------------------------------------------------------------|\n",
    "| cnpj_bas                 | NÚMERO BASE DE INSCRIÇÃO NO CNPJ (OITO PRIMEIROS DÍGITOS DO CNPJ).                                 |\n",
    "| cnpj_ord                 | NÚMERO DO ESTABELECIMENTO DE INSCRIÇÃO NO CNPJ (DO NONO ATÉ O DÉCIMO SEGUNDO DÍGITO DO CNPJ).      |\n",
    "| cnpj_dv                     | DÍGITO VERIFICADOR DO NÚMERO DE INSCRIÇÃO NO CNPJ (DOIS ÚLTIMOS DÍGITOS DO CNPJ).                  |\n",
    "| id_mat_fil | CÓDIGO DO IDENTIFICADOR MATRIZ/FILIAL: 1 – MATRIZ    2 – FILIAL                                    |\n",
    "| nome_fant               | CORRESPONDE AO NOME FANTASIA                                                                       |\n",
    "| sit_cad          | CÓDIGO DA SITUAÇÃO CADASTRAL: 01 – NULA    2 – ATIVA    3 – SUSPENSA    4 – INAPTA    08 – BAIXADA |\n",
    "| dt_sit_cad     | DATA DO EVENTO DA SITUAÇÃO CADASTRAL                                                               |\n",
    "| mt_sit_cad   | CÓDIGO DO MOTIVO DA SITUAÇÃO CADASTRAL                                                             |\n",
    "| nome_cidad  | NOME DA CIDADE NO EXTERIOR                                                                         |\n",
    "| pais                        | CÓDIGO DO PAIS                                                                                     |\n",
    "| dt_ini_ativ    | DATA DE INÍCIO DA ATIVIDADE                                                                        |\n",
    "| cnae_pri       | CÓDIGO DA ATIVIDADE ECONÔMICA PRINCIPAL DO ESTABELECIMENTO                                         |\n",
    "| cnae_sec      | CÓDIGO DA(S) ATIVIDADE(S) ECONÔMICA(S) SECUNDÁRIA(S) DO ESTABELECIMENTO                            |\n",
    "| tp_logr         | DESCRIÇÃO DO TIPO DE LOGRADOURO                                                                    |\n",
    "| lograd                  | NOME DO LOGRADOURO ONDE SE LOCALIZA O ESTABELECIMENTO.                                             |\n",
    "| numero                      | NÚMERO ONDE SE LOCALIZA O ESTABELECIMENTO. QUANDO NÃO HOUVER PREENCHIMENTO DO NÚMERO HAVERÁ ‘S/N’. |\n",
    "| compl                 | COMPLEMENTO PARA O ENDEREÇO DE LOCALIZAÇÃO DO ESTABELECIMENTO                                      |\n",
    "| bairro                      | BAIRRO ONDE SE LOCALIZA O ESTABELECIMENTO.                                                         |\n",
    "| cep                         | CÓDIGO DE ENDEREÇAMENTO POSTAL REFERENTE AO LOGRADOURO NO QUAL O ESTABELECIMENTO ESTA LOCALIZADO   |\n",
    "| uf                          | SIGLA DA UNIDADE DA FEDERAÇÃO EM QUE SE ENCONTRA O ESTABELECIMENTO                                 |\n",
    "| munic                   | CÓDIGO DO MUNICÍPIO DE JURISDIÇÃO ONDE SE ENCONTRA O ESTABELECIMENTO                               |\n",
    "| ddd_1                      | CONTÉM O DDD 1                                                                                     |\n",
    "| tel_1                 | CONTÉM O NÚMERO DO TELEFONE 1                                                                      |\n",
    "| ddd_2                       | CONTÉM O DDD 2                                                                                     |\n",
    "| tel_2                 | CONTÉM O NÚMERO DO TELEFONE 2                                                                      |\n",
    "| ddd_fax                 | CONTÉM O DDD DO FAX                                                                                |\n",
    "| fax                         | CONTÉM O NÚMERO DO FAX                                                                             |\n",
    "| email          | CONTÉM O E-MAIL DO CONTRIBUINTE                                                                    |\n",
    "| sit_esp           | SITUAÇÃO ESPECIAL DA EMPRESA                                                                       |\n",
    "| dt_sit_esp   | DATA EM QUE A EMPRESA ENTROU EM SITUAÇÃO ESPECIAL                                                  |"
   ]
  },
  {
   "cell_type": "code",
   "execution_count": null,
   "metadata": {},
   "outputs": [],
   "source": [
    "estabelecimentos = spark.read.csv('estabelecimentos',sep=';',inferSchema=True)"
   ]
  },
  {
   "cell_type": "code",
   "execution_count": null,
   "metadata": {},
   "outputs": [],
   "source": [
    "estab_col = [\n",
    "    'cnpj_bas','cnpj_ord','cnpj_dv','id_mat_fil','nome_fant','sit_cad','dt_sit_cad','mt_sit_cad','nome_cidad','pais','dt_ini_ativ','cnae_pri','cnae_sec','tp_logr'\n",
    "    ,'lograd','numero','compl','bairro','cep','uf','munic','ddd_1','tel_1','ddd_2','tel_2','ddd_fax','fax','email','sit_esp','dt_sit_esp'\n",
    "    ]"
   ]
  },
  {
   "cell_type": "code",
   "execution_count": null,
   "metadata": {},
   "outputs": [],
   "source": [
    "for i,coluna in enumerate(estab_col):\n",
    "    estabelecimentos = estabelecimentos.withColumnRenamed(f'_c{i}',coluna)"
   ]
  },
  {
   "cell_type": "code",
   "execution_count": null,
   "metadata": {},
   "outputs": [],
   "source": [
    "estabelecimentos.limit(5).toPandas()"
   ]
  },
  {
   "cell_type": "code",
   "execution_count": null,
   "metadata": {},
   "outputs": [],
   "source": [
    "estabelecimentos.count()"
   ]
  },
  {
   "cell_type": "code",
   "execution_count": null,
   "metadata": {},
   "outputs": [],
   "source": [
    "estabelecimentos.printSchema()"
   ]
  },
  {
   "cell_type": "code",
   "execution_count": null,
   "metadata": {},
   "outputs": [],
   "source": [
    "estabelecimentos = estabelecimentos\\\n",
    ".withColumn(\n",
    "    'dt_sit_cad',\n",
    "    f.to_date(\n",
    "    estabelecimentos.dt_sit_cad.cast(StringType()),'yyyyMMdd'\n",
    "    )\n",
    ")\\\n",
    ".withColumn(\n",
    "    'dt_ini_ativ',\n",
    "    f.to_date(\n",
    "    estabelecimentos.dt_ini_ativ.cast(StringType()),'yyyyMMdd')\n",
    ")\\\n",
    ".withColumn(\n",
    "    'dt_sit_esp',\n",
    "    f.to_date(\n",
    "    estabelecimentos.dt_sit_esp.cast(StringType()),'yyyyMMdd')\n",
    ")"
   ]
  },
  {
   "cell_type": "code",
   "execution_count": null,
   "metadata": {},
   "outputs": [],
   "source": [
    "estabelecimentos.printSchema()"
   ]
  },
  {
   "cell_type": "code",
   "execution_count": null,
   "metadata": {},
   "outputs": [],
   "source": [
    "estabelecimentos\\\n",
    "    .select('nome_fant','munic',f.year('dt_ini_ativ').alias('ano_ini_ativ'),f.month('dt_ini_ativ').alias('ano_ini_ativ'))\\\n",
    "    .show(5,False)"
   ]
  },
  {
   "cell_type": "markdown",
   "metadata": {},
   "source": [
    "SÓCIOS\n",
    "\n",
    "| Campo| Descrição|\n",
    "|------|----------|\n",
    "| cnpj_bas| NÚMERO BASE DE INSCRIÇÃO NO CNPJ (CADASTRO NACIONAL DA PESSOA JURÍDICA)|\n",
    "| id_soc | CÓDIGO DO IDENTIFICADOR DE SÓCIO 1 – PESSOA JURÍDICA    2 – PESSOA FÍSICA    3 – ESTRANGEIRO                                                \n",
    "| nome_soc | NOME DO SÓCIO PESSOA FÍSICA OU A RAZÃO SOCIAL E/OU NOME EMPRESARIAL DA PESSOA JURÍDICA E/OU NOME DO SÓCIO/RAZÃO SOCIAL DO SÓCIO ESTRANGEIRO |\n",
    "| cnpj_cpf_soc| CPF OU CNPJ DO SÓCIO (SÓCIO ESTRANGEIRO NÃO TEM ESTA INFORMAÇÃO).|\n",
    "| qualif_soc| CÓDIGO DA QUALIFICAÇÃO DO SÓCIO|\n",
    "| dt_entrad | DATA DE ENTRADA NA SOCIEDADE|\n",
    "| pais| CÓDIGO PAÍS DO SÓCIO ESTRANGEIRO|\n",
    "| repr_legal| NÚMERO DO CPF DO REPRESENTANTE LEGAL|\n",
    "| nome_repr| NOME DO REPRESENTANTE LEGAL|\n",
    "| qualif_repr| CÓDIGO DA QUALIFICAÇÃO DO REPRESENTANTE LEGAL|\n",
    "| faix_etar | CÓDIGO CORRESPONDENTE À FAIXA ETÁRIA DO SÓCIO|"
   ]
  },
  {
   "cell_type": "code",
   "execution_count": null,
   "metadata": {},
   "outputs": [],
   "source": [
    "socios = spark.read.csv('socios',sep=';',inferSchema=True)"
   ]
  },
  {
   "cell_type": "code",
   "execution_count": null,
   "metadata": {},
   "outputs": [],
   "source": [
    "soc_col = ['cnpj_bas','id_soc','nome_soc','cnpj_cpf_soc','qualif_soc','dt_entrad','pais','repr_legal','nome_repr','qualif_repr','faix_etar']"
   ]
  },
  {
   "cell_type": "code",
   "execution_count": null,
   "metadata": {},
   "outputs": [],
   "source": [
    "for i,coluna in enumerate(soc_col):\n",
    "    socios = socios.withColumnRenamed(f'_c{i}',coluna)"
   ]
  },
  {
   "cell_type": "code",
   "execution_count": null,
   "metadata": {},
   "outputs": [],
   "source": [
    "socios.limit(5).toPandas()"
   ]
  },
  {
   "cell_type": "code",
   "execution_count": null,
   "metadata": {},
   "outputs": [],
   "source": [
    "socios.count()"
   ]
  },
  {
   "cell_type": "code",
   "execution_count": null,
   "metadata": {},
   "outputs": [],
   "source": [
    "socios.printSchema()"
   ]
  },
  {
   "cell_type": "code",
   "execution_count": null,
   "metadata": {},
   "outputs": [],
   "source": [
    "socios = socios\\\n",
    ".withColumn(\n",
    "    'dt_entrad',\n",
    "    f.to_date(\n",
    "    socios.dt_entrad.cast(StringType()),'yyyyMMdd'\n",
    "    )\n",
    ")"
   ]
  },
  {
   "cell_type": "code",
   "execution_count": null,
   "metadata": {},
   "outputs": [],
   "source": [
    "socios.printSchema()"
   ]
  },
  {
   "cell_type": "code",
   "execution_count": null,
   "metadata": {},
   "outputs": [],
   "source": [
    "socios\\\n",
    "    .select('nome_soc','faix_etar',f.year('dt_entrad').alias('ano_entrad'))\\\n",
    "    .show(5,False)"
   ]
  },
  {
   "cell_type": "code",
   "execution_count": null,
   "metadata": {},
   "outputs": [],
   "source": [
    "socios\\\n",
    "    .select(\n",
    "        f.concat_ws(', ',\n",
    "        f.substring_index(f.col('nome_soc'),' ',-1),\n",
    "        f.substring_index(f.col('nome_soc'),' ',1),\n",
    "        )\n",
    "        .alias('ident ')\n",
    "    )\\\n",
    "    .show(5,False)"
   ]
  },
  {
   "cell_type": "code",
   "execution_count": null,
   "metadata": {},
   "outputs": [],
   "source": [
    "socios\\\n",
    "    .select(\n",
    "        [\n",
    "          f.count(\n",
    "              f.when(\n",
    "                  f.isnull(campo),1\n",
    "              )\n",
    "          ).alias(campo)\\\n",
    "            for campo in socios.columns\n",
    "        ]\n",
    "    ).show()"
   ]
  },
  {
   "cell_type": "code",
   "execution_count": null,
   "metadata": {},
   "outputs": [],
   "source": [
    "socios = socios.na.fill(0)"
   ]
  },
  {
   "cell_type": "code",
   "execution_count": null,
   "metadata": {},
   "outputs": [],
   "source": [
    "socios = socios.na.fill('N/A')"
   ]
  },
  {
   "cell_type": "code",
   "execution_count": null,
   "metadata": {},
   "outputs": [],
   "source": [
    "socios.limit(5).toPandas()"
   ]
  },
  {
   "cell_type": "markdown",
   "metadata": {},
   "source": [
    "Order By"
   ]
  },
  {
   "cell_type": "code",
   "execution_count": null,
   "metadata": {},
   "outputs": [],
   "source": [
    "socios\\\n",
    "    .select('nome_soc','faix_etar',f.year('dt_entrad').alias('ano_entrad'))\\\n",
    "    .orderBy('ano_entrad',ascending=False)\\\n",
    "    .show(5,False)"
   ]
  },
  {
   "cell_type": "markdown",
   "metadata": {},
   "source": [
    "OrderBy two columns"
   ]
  },
  {
   "cell_type": "code",
   "execution_count": null,
   "metadata": {},
   "outputs": [],
   "source": [
    "socios\\\n",
    "    .select('nome_soc','faix_etar',f.year('dt_entrad').alias('ano_entrad'))\\\n",
    "    .orderBy(['ano_entrad','faix_etar'],ascending=[False,False])\\\n",
    "    .show(5,False)"
   ]
  },
  {
   "cell_type": "markdown",
   "metadata": {},
   "source": [
    "Filter"
   ]
  },
  {
   "cell_type": "code",
   "execution_count": null,
   "metadata": {},
   "outputs": [],
   "source": [
    "socios\\\n",
    "    .filter((f.col('nome_soc').startswith('RODRIGO')))\\\n",
    "    .filter((f.col('nome_soc').endswith('DIAS')))\\\n",
    "    .select('nome_soc')\\\n",
    "    .limit(10)\\\n",
    "    .toPandas()\n"
   ]
  },
  {
   "cell_type": "markdown",
   "metadata": {},
   "source": [
    "Count"
   ]
  },
  {
   "cell_type": "code",
   "execution_count": null,
   "metadata": {},
   "outputs": [],
   "source": [
    "socios\\\n",
    "    .select(f.year('dt_entrad').alias('ano_entrad'))\\\n",
    "    .where('ano_entrad >= 2010')\\\n",
    "    .groupBy('ano_entrad')\\\n",
    "    .count()\\\n",
    "    .orderBy('ano_entrad',ascending=True)\\\n",
    "    .show()"
   ]
  },
  {
   "cell_type": "markdown",
   "metadata": {},
   "source": [
    "Joins"
   ]
  },
  {
   "cell_type": "code",
   "execution_count": null,
   "metadata": {},
   "outputs": [],
   "source": [
    "empresas_join = estabelecimentos.join(empresas,estabelecimentos.cnpj_bas == empresas.cnpj,how='inner')"
   ]
  },
  {
   "cell_type": "markdown",
   "metadata": {},
   "source": [
    "Views"
   ]
  },
  {
   "cell_type": "code",
   "execution_count": null,
   "metadata": {},
   "outputs": [],
   "source": [
    "empresas.createOrReplaceTempView('empresasView')"
   ]
  },
  {
   "cell_type": "code",
   "execution_count": null,
   "metadata": {},
   "outputs": [],
   "source": [
    "spark.sql(\"\"\"\n",
    "SELECT * FROM empresasView\n",
    "WHERE capital =50\n",
    "\"\"\").show(5)"
   ]
  },
  {
   "cell_type": "markdown",
   "metadata": {},
   "source": [
    "Write"
   ]
  },
  {
   "cell_type": "code",
   "execution_count": null,
   "metadata": {},
   "outputs": [],
   "source": [
    "empresas.write.csv(path='empresas/csv',mode='overwrite',sep=';',header=True)"
   ]
  },
  {
   "cell_type": "code",
   "execution_count": null,
   "metadata": {},
   "outputs": [],
   "source": [
    "estabelecimentos.write.parquet(path='estabelecimentos/parquet',mode='overwrite')"
   ]
  },
  {
   "cell_type": "code",
   "execution_count": null,
   "metadata": {},
   "outputs": [],
   "source": [
    "socios.write.orc(path='socios/orc',mode='overwrite')"
   ]
  },
  {
   "cell_type": "markdown",
   "metadata": {},
   "source": [
    "Particionamento"
   ]
  },
  {
   "cell_type": "code",
   "execution_count": null,
   "metadata": {},
   "outputs": [],
   "source": [
    "empresas.coalesce(1).write.csv(path='empresas/csv-unico',mode='overwrite',sep=';',header=True)"
   ]
  },
  {
   "cell_type": "code",
   "execution_count": null,
   "metadata": {},
   "outputs": [],
   "source": [
    "estabelecimentos.write.parquet(path='estabelecimentos/parquet-with-partition',mode='overwrite',partitionBy='dt_sit_cad')"
   ]
  },
  {
   "cell_type": "code",
   "execution_count": null,
   "metadata": {},
   "outputs": [],
   "source": [
    "spark.stop()"
   ]
  }
 ],
 "metadata": {
  "interpreter": {
   "hash": "97cc609b13305c559618ec78a438abc56230b9381f827f22d070313b9a1f3777"
  },
  "kernelspec": {
   "display_name": "Python 3.10.0 64-bit",
   "language": "python",
   "name": "python3"
  },
  "language_info": {
   "codemirror_mode": {
    "name": "ipython",
    "version": 3
   },
   "file_extension": ".py",
   "mimetype": "text/x-python",
   "name": "python",
   "nbconvert_exporter": "python",
   "pygments_lexer": "ipython3",
   "version": "3.8.10"
  },
  "orig_nbformat": 4
 },
 "nbformat": 4,
 "nbformat_minor": 2
}
